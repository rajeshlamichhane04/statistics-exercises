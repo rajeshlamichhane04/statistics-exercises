{
 "cells": [
  {
   "cell_type": "code",
   "execution_count": null,
   "id": "6ef28a72",
   "metadata": {},
   "outputs": [],
   "source": [
    "#Do your work for this exercise in a jupyter notebook named hypothesis_testing.ipynb.\n",
    "#For each of the following questions, formulate a null and alternative hypothesis \n",
    "#(be as specific as you can be), then give an example of what a true positive, true \n",
    "#negative, type I and type II errors would look like. Note that some of the questions\n",
    "#are intentionally phrased in a vague way. It is your job to reword these as more precise\n",
    "#questions that could be tested."
   ]
  },
  {
   "cell_type": "raw",
   "id": "0881a3c8",
   "metadata": {},
   "source": [
    "#Has the network latency gone up since we switched internet service providers?\n",
    "Ho: network latency has stayed the same or been worse\n",
    "Hα: newtork latency has gone up\n",
    "True Positive: network latecy has gone up and we reject Ho\n",
    "True Negative: network latecy stayed same and we accept Ho\n",
    "False Positive: network latency stayed same but we failed to accept Ho\n",
    "False negative: network latecy gone but we accepted Ho  "
   ]
  },
  {
   "cell_type": "code",
   "execution_count": null,
   "id": "82f72788",
   "metadata": {},
   "outputs": [],
   "source": [
    "#Is the website redesign any good?\n",
    "Ho:people spend same amount of time in the website\n",
    "Hα: people have been spending more time in the website\n",
    "True postive: we rejected Ho. people spent more time in the website\n",
    "True negative: we failed to reject Ho. people did not spend more time in the website\n",
    "False positive: rejected Ho. we thought people spent more time but we were worng\n",
    "False negative: failed to reject Ho. people spent more time in the website but we thought otherwise"
   ]
  },
  {
   "cell_type": "code",
   "execution_count": null,
   "id": "0abd2649",
   "metadata": {},
   "outputs": [],
   "source": [
    "#Is our television ad driving more sales?\n",
    "Ho: tv revenue has stayed the same\n",
    "Hα: tv revenue has increased\n",
    "True positive: we rejected Ho. tv revenue has gone up as expected such\n",
    "True negative: we failed to reject Ho. tv revenue stayed the same as expected such\n",
    "False postive: we rejected Ho. tv revenuse increased but we failed to show that\n",
    "False negative: we failed to reject Ho. tv revenue stayed the same but we showed it did"
   ]
  }
 ],
 "metadata": {
  "kernelspec": {
   "display_name": "Python 3 (ipykernel)",
   "language": "python",
   "name": "python3"
  },
  "language_info": {
   "codemirror_mode": {
    "name": "ipython",
    "version": 3
   },
   "file_extension": ".py",
   "mimetype": "text/x-python",
   "name": "python",
   "nbconvert_exporter": "python",
   "pygments_lexer": "ipython3",
   "version": "3.9.12"
  }
 },
 "nbformat": 4,
 "nbformat_minor": 5
}
