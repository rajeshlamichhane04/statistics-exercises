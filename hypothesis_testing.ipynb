{
 "cells": [
  {
   "cell_type": "code",
   "execution_count": null,
   "id": "6ef28a72",
   "metadata": {},
   "outputs": [],
   "source": [
    "#Do your work for this exercise in a jupyter notebook named hypothesis_testing.ipynb.\n",
    "#For each of the following questions, formulate a null and alternative hypothesis \n",
    "#(be as specific as you can be), then give an example of what a true positive, true \n",
    "#negative, type I and type II errors would look like. Note that some of the questions\n",
    "#are intentionally phrased in a vague way. It is your job to reword these as more precise\n",
    "#questions that could be tested."
   ]
  },
  {
   "cell_type": "raw",
   "id": "0881a3c8",
   "metadata": {},
   "source": [
    "#Has the network latency gone up since we switched internet service providers?\n",
    "Ho: network latency has stayed the same or been worse\n",
    "Hα: newtork latency has gone up\n",
    "True Positive: network latecy has gone up and we reject Ho\n",
    "True Negative: network latecy stayed same and we accept Ho\n",
    "False Positive: network latency stayed same but we failed to accept Ho\n",
    "False negative: network latecy gone but we accepted Ho  "
   ]
  },
  {
   "cell_type": "code",
   "execution_count": null,
   "id": "82f72788",
   "metadata": {},
   "outputs": [],
   "source": [
    "#Is the website redesign any good?\n",
    "Ho:people spend same amount of time in the website\n",
    "Hα: people have been spending more time in the website\n",
    "True postive: we rejected Ho. people spent more time in the website\n",
    "True negative: we failed to reject Ho. people did not spend more time in the website\n",
    "False positive: rejected Ho. we thought people spent more time but we were worng\n",
    "False negative: failed to reject Ho. people spent more time in the website but we thought otherwise"
   ]
  },
  {
   "cell_type": "code",
   "execution_count": null,
   "id": "0abd2649",
   "metadata": {},
   "outputs": [],
   "source": [
    "#Is our television ad driving more sales?\n",
    "Ho: tv revenue has stayed the same\n",
    "Hα: tv revenue has increased\n",
    "True positive: we rejected Ho. tv revenue has gone up as expected such\n",
    "True negative: we failed to reject Ho. tv revenue stayed the same as expected such\n",
    "False postive: we rejected Ho. tv revenuse increased but we failed to show that\n",
    "False negative: we failed to reject Ho. tv revenue stayed the same but we showed it did"
   ]
  },
  {
   "cell_type": "code",
   "execution_count": null,
   "id": "74e4d2ca",
   "metadata": {},
   "outputs": [],
   "source": [
    "# Ace Realty wants to determine whether the average time it takes\n",
    "#to sell homes is different for its two offices. A sample of 40 sales \n",
    "#from office #1 revealed a mean of 90 days and a standard deviation of 15 days.\n",
    "#A sample of 50 sales from office #2 revealed a mean of 100 days and a standard deviation of 20 days. \n",
    "#Use a .05 level of significance.\n"
   ]
  },
  {
   "cell_type": "code",
   "execution_count": 1,
   "id": "7bc1118f",
   "metadata": {},
   "outputs": [],
   "source": [
    "import numpy as np\n",
    "import seaborn as sns\n",
    "import scipy.stats as stats\n",
    "import pandas as pd\n",
    "import matplotlib.pyplot as plt\n",
    "from pydataset import data"
   ]
  },
  {
   "cell_type": "code",
   "execution_count": 2,
   "id": "a643f746",
   "metadata": {},
   "outputs": [],
   "source": [
    "# formulate hypotheses\n",
    "\n",
    "# H0: mean sales time for Office 1 = mean sales time for Office 2. \n",
    "# H1: mean sales time for Office 1 != mean sales time for Office 2"
   ]
  },
  {
   "cell_type": "code",
   "execution_count": 7,
   "id": "05c8e0b8",
   "metadata": {},
   "outputs": [],
   "source": [
    "#my data\n",
    "#office1\n",
    "μ1 = 90\n",
    "σ1= 15\n",
    "n1 = 40\n",
    "\n",
    "#office2\n",
    "μ2 = 100\n",
    "σ2 = 20\n",
    "n2 = 50"
   ]
  },
  {
   "cell_type": "code",
   "execution_count": 8,
   "id": "f316244c",
   "metadata": {},
   "outputs": [],
   "source": [
    "# my assumptions\n",
    "#are they normal distribution:yes(we are gonna say so)\n",
    "#are variance different:yes\n",
    "#are they independent data: yes\n"
   ]
  },
  {
   "cell_type": "code",
   "execution_count": 9,
   "id": "006e6839",
   "metadata": {},
   "outputs": [],
   "source": [
    "alpha = 0.05"
   ]
  },
  {
   "cell_type": "code",
   "execution_count": 10,
   "id": "69dcb77f",
   "metadata": {},
   "outputs": [],
   "source": [
    "t, p = stats.ttest_ind_from_stats(μ1,σ1,n1, μ2,σ2,n2, equal_var= False)"
   ]
  },
  {
   "cell_type": "code",
   "execution_count": 11,
   "id": "87c284c3",
   "metadata": {},
   "outputs": [
    {
     "data": {
      "text/plain": [
       "(-2.7091418459143854, 0.00811206270346016)"
      ]
     },
     "execution_count": 11,
     "metadata": {},
     "output_type": "execute_result"
    }
   ],
   "source": [
    "t, p"
   ]
  },
  {
   "cell_type": "code",
   "execution_count": 12,
   "id": "b83756f3",
   "metadata": {},
   "outputs": [
    {
     "name": "stdout",
     "output_type": "stream",
     "text": [
      "we reject null hypothesis\n"
     ]
    }
   ],
   "source": [
    "if p < alpha:\n",
    "    print(\"we reject null hypothesis\")\n",
    "else:\n",
    "    print(\"we fail to reject null hypothesis\")"
   ]
  },
  {
   "cell_type": "code",
   "execution_count": 13,
   "id": "e36758cc",
   "metadata": {},
   "outputs": [],
   "source": [
    "# Load the mpg dataset and use it to answer the following questions:\n",
    "#Is there a difference in fuel-efficiency in cars from 2008 vs 1999?\n",
    "#Are compact cars more fuel-efficient than the average car?\n",
    "#Do manual cars get better gas mileage than automatic cars?\n"
   ]
  },
  {
   "cell_type": "code",
   "execution_count": 14,
   "id": "a0f0fa1e",
   "metadata": {},
   "outputs": [],
   "source": [
    "mpg = data('mpg')\n"
   ]
  },
  {
   "cell_type": "code",
   "execution_count": 15,
   "id": "ec050e92",
   "metadata": {},
   "outputs": [],
   "source": [
    " #1. Is there a difference in fuel-efficiency in cars from 2008 vs 1999?"
   ]
  },
  {
   "cell_type": "code",
   "execution_count": 18,
   "id": "2b1594bd",
   "metadata": {},
   "outputs": [
    {
     "data": {
      "text/html": [
       "<div>\n",
       "<style scoped>\n",
       "    .dataframe tbody tr th:only-of-type {\n",
       "        vertical-align: middle;\n",
       "    }\n",
       "\n",
       "    .dataframe tbody tr th {\n",
       "        vertical-align: top;\n",
       "    }\n",
       "\n",
       "    .dataframe thead th {\n",
       "        text-align: right;\n",
       "    }\n",
       "</style>\n",
       "<table border=\"1\" class=\"dataframe\">\n",
       "  <thead>\n",
       "    <tr style=\"text-align: right;\">\n",
       "      <th></th>\n",
       "      <th>manufacturer</th>\n",
       "      <th>model</th>\n",
       "      <th>displ</th>\n",
       "      <th>year</th>\n",
       "      <th>cyl</th>\n",
       "      <th>trans</th>\n",
       "      <th>drv</th>\n",
       "      <th>cty</th>\n",
       "      <th>hwy</th>\n",
       "      <th>fl</th>\n",
       "      <th>class</th>\n",
       "      <th>average_mpg</th>\n",
       "    </tr>\n",
       "  </thead>\n",
       "  <tbody>\n",
       "    <tr>\n",
       "      <th>1</th>\n",
       "      <td>audi</td>\n",
       "      <td>a4</td>\n",
       "      <td>1.8</td>\n",
       "      <td>1999</td>\n",
       "      <td>4</td>\n",
       "      <td>auto(l5)</td>\n",
       "      <td>f</td>\n",
       "      <td>18</td>\n",
       "      <td>29</td>\n",
       "      <td>p</td>\n",
       "      <td>compact</td>\n",
       "      <td>22.212766</td>\n",
       "    </tr>\n",
       "  </tbody>\n",
       "</table>\n",
       "</div>"
      ],
      "text/plain": [
       "  manufacturer model  displ  year  cyl     trans drv  cty  hwy fl    class  \\\n",
       "1         audi    a4    1.8  1999    4  auto(l5)   f   18   29  p  compact   \n",
       "\n",
       "   average_mpg  \n",
       "1    22.212766  "
      ]
     },
     "execution_count": 18,
     "metadata": {},
     "output_type": "execute_result"
    }
   ],
   "source": [
    "mpg[\"average_mpg\"] = stats.hmean(mpg[[\"cty\",\"hwy\"]],axis = 1)\n",
    "mpg.head(1)"
   ]
  },
  {
   "cell_type": "code",
   "execution_count": 19,
   "id": "f619f7ae",
   "metadata": {},
   "outputs": [
    {
     "data": {
      "text/plain": [
       "3    24.313725\n",
       "Name: average_mpg, dtype: float64"
      ]
     },
     "execution_count": 19,
     "metadata": {},
     "output_type": "execute_result"
    }
   ],
   "source": [
    "avg_mpg_2008 = mpg[mpg.year == 2008].average_mpg\n",
    "avg_mpg_2008.head(1)"
   ]
  },
  {
   "cell_type": "code",
   "execution_count": 20,
   "id": "cc384975",
   "metadata": {},
   "outputs": [
    {
     "data": {
      "text/plain": [
       "1    22.212766\n",
       "Name: average_mpg, dtype: float64"
      ]
     },
     "execution_count": 20,
     "metadata": {},
     "output_type": "execute_result"
    }
   ],
   "source": [
    "avg_mpg_1999 = mpg[mpg.year == 1999].average_mpg\n",
    "avg_mpg_1999.head(1)"
   ]
  },
  {
   "cell_type": "code",
   "execution_count": 21,
   "id": "a668988a",
   "metadata": {},
   "outputs": [],
   "source": [
    "#variance test:\n",
    "#Ho:variances are equal\n",
    "#H1:variances are not equal\n",
    "\n",
    "tstat,pval = stats.levene(avg_mpg_2008, avg_mpg_1999)"
   ]
  },
  {
   "cell_type": "code",
   "execution_count": 22,
   "id": "9ab64cc4",
   "metadata": {},
   "outputs": [
    {
     "data": {
      "text/plain": [
       "(0.031071867429515194, 0.8602339200830025)"
      ]
     },
     "execution_count": 22,
     "metadata": {},
     "output_type": "execute_result"
    }
   ],
   "source": [
    "tstat, pval"
   ]
  },
  {
   "cell_type": "code",
   "execution_count": 23,
   "id": "b711a82b",
   "metadata": {},
   "outputs": [
    {
     "name": "stdout",
     "output_type": "stream",
     "text": [
      "fail to reject null hypothesis\n"
     ]
    }
   ],
   "source": [
    "alpha = 0.05\n",
    "if pval < alpha:\n",
    "    print (\"reject null hypothesis\")\n",
    "else:\n",
    "    print(\"fail to reject null hypothesis\")"
   ]
  },
  {
   "cell_type": "code",
   "execution_count": 24,
   "id": "242e89c7",
   "metadata": {},
   "outputs": [],
   "source": [
    "#Ho: avg_mpg_2008 == avg_mpg_1999\n",
    "#H1: avg_mpg_1999 != avg_mpg_1999\n",
    "\n",
    "#distro is normal\n",
    "#variance is same\n",
    "#independent sample\n"
   ]
  },
  {
   "cell_type": "code",
   "execution_count": 25,
   "id": "23f6be03",
   "metadata": {},
   "outputs": [
    {
     "data": {
      "text/plain": [
       "(-0.3011962975077886, 0.7635345888327115)"
      ]
     },
     "execution_count": 25,
     "metadata": {},
     "output_type": "execute_result"
    }
   ],
   "source": [
    "#find t and p value\n",
    "t,p = stats.ttest_ind(avg_mpg_2008, avg_mpg_1999, equal_var = True)\n",
    "t,p"
   ]
  },
  {
   "cell_type": "code",
   "execution_count": 26,
   "id": "2390a309",
   "metadata": {},
   "outputs": [
    {
     "name": "stdout",
     "output_type": "stream",
     "text": [
      "cannot reject null hypothesis\n"
     ]
    }
   ],
   "source": [
    "if p < alpha:\n",
    "    print(\"reject null hypothesis\")\n",
    "else:\n",
    "    print(\"cannot reject null hypothesis\")"
   ]
  },
  {
   "cell_type": "code",
   "execution_count": 27,
   "id": "e2ac7cc6",
   "metadata": {},
   "outputs": [],
   "source": [
    "#2. Are compact cars more fuel-efficient than the average car?\n"
   ]
  },
  {
   "cell_type": "code",
   "execution_count": 28,
   "id": "edfb4213",
   "metadata": {},
   "outputs": [
    {
     "data": {
      "text/html": [
       "<div>\n",
       "<style scoped>\n",
       "    .dataframe tbody tr th:only-of-type {\n",
       "        vertical-align: middle;\n",
       "    }\n",
       "\n",
       "    .dataframe tbody tr th {\n",
       "        vertical-align: top;\n",
       "    }\n",
       "\n",
       "    .dataframe thead th {\n",
       "        text-align: right;\n",
       "    }\n",
       "</style>\n",
       "<table border=\"1\" class=\"dataframe\">\n",
       "  <thead>\n",
       "    <tr style=\"text-align: right;\">\n",
       "      <th></th>\n",
       "      <th>manufacturer</th>\n",
       "      <th>model</th>\n",
       "      <th>displ</th>\n",
       "      <th>year</th>\n",
       "      <th>cyl</th>\n",
       "      <th>trans</th>\n",
       "      <th>drv</th>\n",
       "      <th>cty</th>\n",
       "      <th>hwy</th>\n",
       "      <th>fl</th>\n",
       "      <th>class</th>\n",
       "      <th>average_mpg</th>\n",
       "    </tr>\n",
       "  </thead>\n",
       "  <tbody>\n",
       "    <tr>\n",
       "      <th>1</th>\n",
       "      <td>audi</td>\n",
       "      <td>a4</td>\n",
       "      <td>1.8</td>\n",
       "      <td>1999</td>\n",
       "      <td>4</td>\n",
       "      <td>auto(l5)</td>\n",
       "      <td>f</td>\n",
       "      <td>18</td>\n",
       "      <td>29</td>\n",
       "      <td>p</td>\n",
       "      <td>compact</td>\n",
       "      <td>22.212766</td>\n",
       "    </tr>\n",
       "    <tr>\n",
       "      <th>2</th>\n",
       "      <td>audi</td>\n",
       "      <td>a4</td>\n",
       "      <td>1.8</td>\n",
       "      <td>1999</td>\n",
       "      <td>4</td>\n",
       "      <td>manual(m5)</td>\n",
       "      <td>f</td>\n",
       "      <td>21</td>\n",
       "      <td>29</td>\n",
       "      <td>p</td>\n",
       "      <td>compact</td>\n",
       "      <td>24.360000</td>\n",
       "    </tr>\n",
       "    <tr>\n",
       "      <th>3</th>\n",
       "      <td>audi</td>\n",
       "      <td>a4</td>\n",
       "      <td>2.0</td>\n",
       "      <td>2008</td>\n",
       "      <td>4</td>\n",
       "      <td>manual(m6)</td>\n",
       "      <td>f</td>\n",
       "      <td>20</td>\n",
       "      <td>31</td>\n",
       "      <td>p</td>\n",
       "      <td>compact</td>\n",
       "      <td>24.313725</td>\n",
       "    </tr>\n",
       "    <tr>\n",
       "      <th>4</th>\n",
       "      <td>audi</td>\n",
       "      <td>a4</td>\n",
       "      <td>2.0</td>\n",
       "      <td>2008</td>\n",
       "      <td>4</td>\n",
       "      <td>auto(av)</td>\n",
       "      <td>f</td>\n",
       "      <td>21</td>\n",
       "      <td>30</td>\n",
       "      <td>p</td>\n",
       "      <td>compact</td>\n",
       "      <td>24.705882</td>\n",
       "    </tr>\n",
       "    <tr>\n",
       "      <th>5</th>\n",
       "      <td>audi</td>\n",
       "      <td>a4</td>\n",
       "      <td>2.8</td>\n",
       "      <td>1999</td>\n",
       "      <td>6</td>\n",
       "      <td>auto(l5)</td>\n",
       "      <td>f</td>\n",
       "      <td>16</td>\n",
       "      <td>26</td>\n",
       "      <td>p</td>\n",
       "      <td>compact</td>\n",
       "      <td>19.809524</td>\n",
       "    </tr>\n",
       "  </tbody>\n",
       "</table>\n",
       "</div>"
      ],
      "text/plain": [
       "  manufacturer model  displ  year  cyl       trans drv  cty  hwy fl    class  \\\n",
       "1         audi    a4    1.8  1999    4    auto(l5)   f   18   29  p  compact   \n",
       "2         audi    a4    1.8  1999    4  manual(m5)   f   21   29  p  compact   \n",
       "3         audi    a4    2.0  2008    4  manual(m6)   f   20   31  p  compact   \n",
       "4         audi    a4    2.0  2008    4    auto(av)   f   21   30  p  compact   \n",
       "5         audi    a4    2.8  1999    6    auto(l5)   f   16   26  p  compact   \n",
       "\n",
       "   average_mpg  \n",
       "1    22.212766  \n",
       "2    24.360000  \n",
       "3    24.313725  \n",
       "4    24.705882  \n",
       "5    19.809524  "
      ]
     },
     "execution_count": 28,
     "metadata": {},
     "output_type": "execute_result"
    }
   ],
   "source": [
    "#first find average mpg of all car\n",
    "mpg.head()"
   ]
  },
  {
   "cell_type": "code",
   "execution_count": 29,
   "id": "782d1624",
   "metadata": {},
   "outputs": [
    {
     "data": {
      "text/plain": [
       "19.585525317633177"
      ]
     },
     "execution_count": 29,
     "metadata": {},
     "output_type": "execute_result"
    }
   ],
   "source": [
    "average_all_car = mpg.average_mpg.mean()\n",
    "average_all_car"
   ]
  },
  {
   "cell_type": "code",
   "execution_count": 30,
   "id": "65d316fc",
   "metadata": {},
   "outputs": [
    {
     "data": {
      "text/plain": [
       "1    22.212766\n",
       "2    24.360000\n",
       "3    24.313725\n",
       "4    24.705882\n",
       "5    19.809524\n",
       "Name: average_mpg, dtype: float64"
      ]
     },
     "execution_count": 30,
     "metadata": {},
     "output_type": "execute_result"
    }
   ],
   "source": [
    "compact_mpg = mpg[mpg['class'] == 'compact'].average_mpg\n",
    "compact_mpg.head()"
   ]
  },
  {
   "cell_type": "code",
   "execution_count": 31,
   "id": "90760a5e",
   "metadata": {},
   "outputs": [],
   "source": [
    "#variance test"
   ]
  },
  {
   "cell_type": "code",
   "execution_count": 32,
   "id": "21ed8016",
   "metadata": {},
   "outputs": [],
   "source": [
    "#Ho: mpg of compact car =< mpg of all car\n",
    "#H1: mpg of compact car > mpg of all car"
   ]
  },
  {
   "cell_type": "code",
   "execution_count": 43,
   "id": "b1811567",
   "metadata": {},
   "outputs": [
    {
     "data": {
      "text/plain": [
       "(7.512360093161354, 7.808833174403864e-10)"
      ]
     },
     "execution_count": 43,
     "metadata": {},
     "output_type": "execute_result"
    }
   ],
   "source": [
    "#t test\n",
    "t,p = stats.ttest_1samp(compact_mpg,average_all_car )\n",
    "t,p/2"
   ]
  },
  {
   "cell_type": "code",
   "execution_count": 34,
   "id": "6279d9ea",
   "metadata": {},
   "outputs": [
    {
     "name": "stdout",
     "output_type": "stream",
     "text": [
      "reject null hypothesis\n"
     ]
    }
   ],
   "source": [
    "if (t > 0) and (p/2 < alpha):\n",
    "    print(\"reject null hypothesis\")\n",
    "else:\n",
    "    print(\"cannot reject null hypothesis\")"
   ]
  },
  {
   "cell_type": "code",
   "execution_count": 35,
   "id": "eace8801",
   "metadata": {},
   "outputs": [
    {
     "data": {
      "text/html": [
       "<div>\n",
       "<style scoped>\n",
       "    .dataframe tbody tr th:only-of-type {\n",
       "        vertical-align: middle;\n",
       "    }\n",
       "\n",
       "    .dataframe tbody tr th {\n",
       "        vertical-align: top;\n",
       "    }\n",
       "\n",
       "    .dataframe thead th {\n",
       "        text-align: right;\n",
       "    }\n",
       "</style>\n",
       "<table border=\"1\" class=\"dataframe\">\n",
       "  <thead>\n",
       "    <tr style=\"text-align: right;\">\n",
       "      <th></th>\n",
       "      <th>manufacturer</th>\n",
       "      <th>model</th>\n",
       "      <th>displ</th>\n",
       "      <th>year</th>\n",
       "      <th>cyl</th>\n",
       "      <th>trans</th>\n",
       "      <th>drv</th>\n",
       "      <th>cty</th>\n",
       "      <th>hwy</th>\n",
       "      <th>fl</th>\n",
       "      <th>class</th>\n",
       "      <th>average_mpg</th>\n",
       "    </tr>\n",
       "  </thead>\n",
       "  <tbody>\n",
       "    <tr>\n",
       "      <th>1</th>\n",
       "      <td>audi</td>\n",
       "      <td>a4</td>\n",
       "      <td>1.8</td>\n",
       "      <td>1999</td>\n",
       "      <td>4</td>\n",
       "      <td>auto(l5)</td>\n",
       "      <td>f</td>\n",
       "      <td>18</td>\n",
       "      <td>29</td>\n",
       "      <td>p</td>\n",
       "      <td>compact</td>\n",
       "      <td>22.212766</td>\n",
       "    </tr>\n",
       "  </tbody>\n",
       "</table>\n",
       "</div>"
      ],
      "text/plain": [
       "  manufacturer model  displ  year  cyl     trans drv  cty  hwy fl    class  \\\n",
       "1         audi    a4    1.8  1999    4  auto(l5)   f   18   29  p  compact   \n",
       "\n",
       "   average_mpg  \n",
       "1    22.212766  "
      ]
     },
     "execution_count": 35,
     "metadata": {},
     "output_type": "execute_result"
    }
   ],
   "source": [
    "# Do manual cars get better gas mileage than automatic cars?\n",
    "mpg.head(1)"
   ]
  },
  {
   "cell_type": "code",
   "execution_count": null,
   "id": "9d6d83fc",
   "metadata": {},
   "outputs": [],
   "source": []
  },
  {
   "cell_type": "code",
   "execution_count": 36,
   "id": "8d2b9e40",
   "metadata": {},
   "outputs": [
    {
     "data": {
      "text/plain": [
       "1    22.212766\n",
       "Name: average_mpg, dtype: float64"
      ]
     },
     "execution_count": 36,
     "metadata": {},
     "output_type": "execute_result"
    }
   ],
   "source": [
    "auto_mpg = mpg[mpg.trans.str.contains(\"auto\")].average_mpg\n",
    "auto_mpg.head(1)"
   ]
  },
  {
   "cell_type": "code",
   "execution_count": 37,
   "id": "f9dfe102",
   "metadata": {},
   "outputs": [
    {
     "data": {
      "text/plain": [
       "2    24.36\n",
       "Name: average_mpg, dtype: float64"
      ]
     },
     "execution_count": 37,
     "metadata": {},
     "output_type": "execute_result"
    }
   ],
   "source": [
    "manual_mpg = mpg[mpg.trans.str.contains(\"manual\")].average_mpg\n",
    "manual_mpg.head(1)"
   ]
  },
  {
   "cell_type": "code",
   "execution_count": 38,
   "id": "50d1a905",
   "metadata": {},
   "outputs": [
    {
     "data": {
      "text/plain": [
       "0.9062462281015493"
      ]
     },
     "execution_count": 38,
     "metadata": {},
     "output_type": "execute_result"
    }
   ],
   "source": [
    "#variance test\n",
    "#Ho: variances are same\n",
    "#H1: variances are different\n",
    "stat,p_levene = stats.levene(manual_mpg,auto_mpg)\n",
    "p_levene"
   ]
  },
  {
   "cell_type": "code",
   "execution_count": 39,
   "id": "7e08c38a",
   "metadata": {},
   "outputs": [],
   "source": [
    "# varience is same as pval is greater than alpha"
   ]
  },
  {
   "cell_type": "code",
   "execution_count": 44,
   "id": "582e61a7",
   "metadata": {},
   "outputs": [
    {
     "data": {
      "text/plain": [
       "(4.652577547151351, 2.7552323050220026e-06)"
      ]
     },
     "execution_count": 44,
     "metadata": {},
     "output_type": "execute_result"
    }
   ],
   "source": [
    "#set up\n",
    "#Ho: manual_mpg =< auto_mpg\n",
    "#H1:manual_mpg > auto_mpg\n",
    "t, p = stats.ttest_ind(manual_mpg, auto_mpg, equal_var = True)\n",
    "t,p/2"
   ]
  },
  {
   "cell_type": "code",
   "execution_count": 41,
   "id": "4b371fb4",
   "metadata": {},
   "outputs": [
    {
     "name": "stdout",
     "output_type": "stream",
     "text": [
      "reject null hypothesis\n"
     ]
    }
   ],
   "source": [
    "# it is one tailed test\n",
    "if (t>0) and (p/2 < alpha):\n",
    "    print(\"reject null hypothesis\")\n",
    "else:\n",
    "    print(\"cannot reject null hypothesis\")"
   ]
  },
  {
   "cell_type": "code",
   "execution_count": null,
   "id": "1066588d",
   "metadata": {},
   "outputs": [],
   "source": []
  }
 ],
 "metadata": {
  "kernelspec": {
   "display_name": "Python 3 (ipykernel)",
   "language": "python",
   "name": "python3"
  },
  "language_info": {
   "codemirror_mode": {
    "name": "ipython",
    "version": 3
   },
   "file_extension": ".py",
   "mimetype": "text/x-python",
   "name": "python",
   "nbconvert_exporter": "python",
   "pygments_lexer": "ipython3",
   "version": "3.9.12"
  }
 },
 "nbformat": 4,
 "nbformat_minor": 5
}
