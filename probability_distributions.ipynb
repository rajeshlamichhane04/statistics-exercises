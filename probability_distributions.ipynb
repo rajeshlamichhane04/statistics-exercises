{
 "cells": [
  {
   "cell_type": "code",
   "execution_count": 2,
   "id": "c758a8b8",
   "metadata": {},
   "outputs": [],
   "source": [
    "# pyplot for plotting\n",
    "import matplotlib.pyplot as plt\n",
    "# numpy for vectorized array operations\n",
    "import numpy as np\n",
    "# pandas for proper tabular manipulation\n",
    "import pandas as pd\n",
    "# scipy stats for our subversions\n",
    "from scipy import stats\n"
   ]
  },
  {
   "cell_type": "code",
   "execution_count": 2,
   "id": "a8dc6816",
   "metadata": {},
   "outputs": [
    {
     "data": {
      "text/plain": [
       "<scipy.stats._distn_infrastructure.rv_frozen at 0x7f85663b52b0>"
      ]
     },
     "execution_count": 2,
     "metadata": {},
     "output_type": "execute_result"
    }
   ],
   "source": [
    "#1. A bank found that the average number of cars waiting during the noon hour at a drive-up window follows a Poisson distribution with a mean of 2 cars. Make a chart of this distribution and answer these questions concerning the probability of cars waiting at the drive-up window.\n",
    "μ= 2\n",
    "stats.poisson(μ)"
   ]
  },
  {
   "cell_type": "code",
   "execution_count": 3,
   "id": "329dcbef",
   "metadata": {},
   "outputs": [
    {
     "data": {
      "image/png": "[encoded data removed]",
      "text/plain": [
       "<Figure size 432x288 with 1 Axes>"
      ]
     },
     "metadata": {
      "needs_background": "light"
     },
     "output_type": "display_data"
    }
   ],
   "source": [
    "x = np.arange(0,10)\n",
    "y = stats.poisson(μ).pmf(x)\n",
    "plt.bar(x,y)\n",
    "plt.xlabel(\"number of cars\")\n",
    "plt.ylabel( \"P(x)\")\n",
    "plt.title('Poisson Distriburtion')\n",
    "plt.show()"
   ]
  },
  {
   "cell_type": "code",
   "execution_count": 25,
   "id": "cab63da9",
   "metadata": {},
   "outputs": [],
   "source": [
    "# establish variables \n",
    "n_sim = 100_000\n",
    "µ = 2\n",
    "dist = stats.poisson(µ)\n",
    "#use rvs tp generate simulations and save it\n",
    "dist = dist.rvs(n_sim)"
   ]
  },
  {
   "cell_type": "code",
   "execution_count": 31,
   "id": "a92668cb",
   "metadata": {},
   "outputs": [
    {
     "name": "stdout",
     "output_type": "stream",
     "text": [
      "0.1353352832366127\n",
      "0.13573\n"
     ]
    }
   ],
   "source": [
    "# What is the probability that no cars drive up in the noon hour?\n",
    " # thoeritical\n",
    "print(stats.poisson(mean).pmf(0))\n",
    "\n",
    " # experomental\n",
    "print((dist == 0).mean()) "
   ]
  },
  {
   "cell_type": "code",
   "execution_count": 20,
   "id": "8ac0e6f5",
   "metadata": {},
   "outputs": [
    {
     "data": {
      "text/plain": [
       "0.32332358381693654"
      ]
     },
     "execution_count": 20,
     "metadata": {},
     "output_type": "execute_result"
    }
   ],
   "source": [
    "# What is the probability that 3 or more cars come through the drive through?\n",
    "stats.poisson(mean).sf(2) #theoritical"
   ]
  },
  {
   "cell_type": "code",
   "execution_count": 32,
   "id": "e0ce0352",
   "metadata": {},
   "outputs": [
    {
     "data": {
      "text/plain": [
       "0.32345"
      ]
     },
     "execution_count": 32,
     "metadata": {},
     "output_type": "execute_result"
    }
   ],
   "source": [
    "(dist >= 3).mean() # experimental"
   ]
  },
  {
   "cell_type": "code",
   "execution_count": 33,
   "id": "5b98a3e1",
   "metadata": {},
   "outputs": [
    {
     "data": {
      "text/plain": [
       "0.8646647167633873"
      ]
     },
     "execution_count": 33,
     "metadata": {},
     "output_type": "execute_result"
    }
   ],
   "source": [
    "#How likely is it that the drive through gets at least 1 car?\n",
    "stats.poisson(mean).sf(0) # theoritical"
   ]
  },
  {
   "cell_type": "code",
   "execution_count": 35,
   "id": "5f7a50d1",
   "metadata": {},
   "outputs": [
    {
     "data": {
      "text/plain": [
       "0.86427"
      ]
     },
     "execution_count": 35,
     "metadata": {},
     "output_type": "execute_result"
    }
   ],
   "source": [
    "(dist > 0).mean() # experimental"
   ]
  },
  {
   "cell_type": "code",
   "execution_count": null,
   "id": "2e6fec0b",
   "metadata": {},
   "outputs": [],
   "source": []
  },
  {
   "cell_type": "code",
   "execution_count": null,
   "id": "10ade2d7",
   "metadata": {},
   "outputs": [],
   "source": [
    "#Grades of State University graduates are normally distributed with a mean of 3.0 and a standard deviation of .3. Calculate the following:2. "
   ]
  },
  {
   "cell_type": "code",
   "execution_count": 9,
   "id": "d5b67b28",
   "metadata": {},
   "outputs": [
    {
     "data": {
      "text/plain": [
       "array([2.92801813, 3.17725614, 2.98337124, ..., 3.11141183, 3.24618262,\n",
       "       2.82642443])"
      ]
     },
     "execution_count": 9,
     "metadata": {},
     "output_type": "execute_result"
    }
   ],
   "source": [
    "μ = 3\n",
    "σ = 0.3\n",
    "dist = stats.norm(μ,σ)\n",
    "\n",
    "#lets makes simulation\n",
    "n_sim = 10_000\n",
    "dist_sim = dist.rvs(n_sim)\n",
    "dist_sim"
   ]
  },
  {
   "cell_type": "code",
   "execution_count": 10,
   "id": "3bd312af",
   "metadata": {},
   "outputs": [
    {
     "data": {
      "image/png": "[encoded data removed]",
      "text/plain": [
       "<Figure size 432x288 with 1 Axes>"
      ]
     },
     "metadata": {
      "needs_background": "light"
     },
     "output_type": "display_data"
    }
   ],
   "source": [
    "x = np.arange(0,5,.09)\n",
    "y = dist.pdf(x)\n",
    "plt.plot(x,y)\n",
    "plt.xlabel('students')\n",
    "plt.ylabel('P(X=x)')\n",
    "plt.title(\"grade distribution\")\n",
    "plt.show()"
   ]
  },
  {
   "cell_type": "code",
   "execution_count": 11,
   "id": "002d7f91",
   "metadata": {},
   "outputs": [
    {
     "data": {
      "text/plain": [
       "3.5252058213756507"
      ]
     },
     "execution_count": 11,
     "metadata": {},
     "output_type": "execute_result"
    }
   ],
   "source": [
    "# What grade point average is required to be in the top 5% of the graduating class?\n",
    "dist.isf(0.04)  \n"
   ]
  },
  {
   "cell_type": "code",
   "execution_count": 12,
   "id": "22ab7a13",
   "metadata": {},
   "outputs": [
    {
     "data": {
      "text/plain": [
       "2.689069983151863"
      ]
     },
     "execution_count": 12,
     "metadata": {},
     "output_type": "execute_result"
    }
   ],
   "source": [
    "# What GPA constitutes the bottom 15% of the class?\n",
    "dist.ppf(.15) "
   ]
  },
  {
   "cell_type": "code",
   "execution_count": 15,
   "id": "b418a8fc",
   "metadata": {},
   "outputs": [
    {
     "data": {
      "text/plain": [
       "array([2.74751363, 2.84267985])"
      ]
     },
     "execution_count": 15,
     "metadata": {},
     "output_type": "execute_result"
    }
   ],
   "source": [
    "# An eccentric alumnus left scholarship money for students in the third decile from the bottom of their class. Determine the range of the third decile. Would a student with a 2.8 grade point average qualify for this scholarship\n",
    "\n",
    "#3rd decile 20%-30%\n",
    "dist.ppf([.2,.3])"
   ]
  },
  {
   "cell_type": "code",
   "execution_count": 14,
   "id": "bfcf4eec",
   "metadata": {},
   "outputs": [],
   "source": [
    "#2.8 gpa will qualify"
   ]
  },
  {
   "cell_type": "code",
   "execution_count": 59,
   "id": "e0875518",
   "metadata": {},
   "outputs": [
    {
     "data": {
      "text/plain": [
       "0.9522096477271853"
      ]
     },
     "execution_count": 59,
     "metadata": {},
     "output_type": "execute_result"
    }
   ],
   "source": [
    "# If I have a GPA of 3.5, what percentile am I in?\n",
    "dist.cdf(3.5)"
   ]
  },
  {
   "cell_type": "code",
   "execution_count": 30,
   "id": "a5bb3435",
   "metadata": {},
   "outputs": [
    {
     "data": {
      "text/plain": [
       "0.13975823631416445"
      ]
     },
     "execution_count": 30,
     "metadata": {},
     "output_type": "execute_result"
    }
   ],
   "source": [
    "#3. A marketing website has an average click-through rate of 2%. One day they observe 4326 visitors and 97 click-throughs. How likely is it that this many people or more click through?\n",
    "\n",
    "p = 0.02\n",
    "trial = 4326\n",
    "clicks = stats.binom(trial,p)\n",
    "likely_click = clicks.sf(96)\n",
    "likely_click\n"
   ]
  },
  {
   "cell_type": "code",
   "execution_count": 7,
   "id": "dd628248",
   "metadata": {},
   "outputs": [
    {
     "data": {
      "text/plain": [
       "0.45284335760923855"
      ]
     },
     "execution_count": 7,
     "metadata": {},
     "output_type": "execute_result"
    }
   ],
   "source": [
    "#4. You are working on some statistics homework consisting of 100 questions where all of the answers are a probability rounded to the hundreths place. Looking to save time, you put down random probabilities as the answer to each question.\n",
    "p = 1/100\n",
    "trial = 60\n",
    "success = stats.binom(trial,p)\n",
    "success.sf(0)"
   ]
  },
  {
   "cell_type": "code",
   "execution_count": 16,
   "id": "27e6ee3a",
   "metadata": {},
   "outputs": [
    {
     "data": {
      "text/plain": [
       "0.8362274861228872"
      ]
     },
     "execution_count": 16,
     "metadata": {},
     "output_type": "execute_result"
    }
   ],
   "source": [
    "#5 The codeup staff tends to get upset when the student break area is not cleaned up. Suppose that there's a 3% chance that any one student cleans the break area when they visit it, and, on any given day, about 90% of the 3 active cohorts of 22 students visit the break area. How likely is it that the break area gets cleaned up each day? How likely is it that it goes two days without getting cleaned up? All week?\n",
    "\n",
    "## How likely is it that the break area gets cleaned up each day?\n",
    "\n",
    "trial = .9 * 3 * 22\n",
    "p = 0.03\n",
    "stats.binom(trial,p).sf(0)"
   ]
  },
  {
   "cell_type": "code",
   "execution_count": 18,
   "id": "69da7072",
   "metadata": {},
   "outputs": [
    {
     "data": {
      "text/plain": [
       "Text(0.5, 0, 'Number of time area is cleaned per day')"
      ]
     },
     "execution_count": 18,
     "metadata": {},
     "output_type": "execute_result"
    },
    {
     "data": {
      "image/png": "[encoded data removed]",
      "text/plain": [
       "<Figure size 432x288 with 1 Axes>"
      ]
     },
     "metadata": {
      "needs_background": "light"
     },
     "output_type": "display_data"
    }
   ],
   "source": [
    "x = np.arange(0,10)\n",
    "y= stats.binom(trial,p).pmf(x)\n",
    "\n",
    "plt.bar(x,y)\n",
    "plt.xlabel(\"Number of time area is cleaned per day\")"
   ]
  },
  {
   "cell_type": "code",
   "execution_count": 19,
   "id": "4a13e2d5",
   "metadata": {},
   "outputs": [
    {
     "data": {
      "text/plain": [
       "0.026821436301628983"
      ]
     },
     "execution_count": 19,
     "metadata": {},
     "output_type": "execute_result"
    }
   ],
   "source": [
    "# How likely is it that it goes two days without getting cleaned up?\n",
    "stats.binom(trial * 2, p).pmf(0)"
   ]
  },
  {
   "cell_type": "code",
   "execution_count": 20,
   "id": "fd603e83",
   "metadata": {},
   "outputs": [
    {
     "data": {
      "text/plain": [
       "0.00011781621791055051"
      ]
     },
     "execution_count": 20,
     "metadata": {},
     "output_type": "execute_result"
    }
   ],
   "source": [
    "#  All week?\n",
    "stats.binom(trial * 5, p).pmf(0)"
   ]
  },
  {
   "cell_type": "code",
   "execution_count": 10,
   "id": "a30183ea",
   "metadata": {},
   "outputs": [
    {
     "data": {
      "text/plain": [
       "0.6914624612740131"
      ]
     },
     "execution_count": 10,
     "metadata": {},
     "output_type": "execute_result"
    }
   ],
   "source": [
    "# You want to get lunch at La Panaderia, but notice that the line is usually very long at lunchtime. After several weeks of careful observation, you notice that the average number of people in line when your lunch break starts is normally distributed with a mean of 15 and standard deviation of 3. If it takes 2 minutes for each person to order, and 10 minutes from ordering to getting your food, what is the likelihood that you have at least 15 minutes left to eat your food before you have to go back to class? Assume you have one hour for lunch, and ignore travel time to and from La Panaderia.\n",
    "# comvert mean and standrad dev to mins\n",
    "μ = 15 * 2\n",
    "σ = 3 * 2\n",
    "# we have max 60 mins minus 2 mins minus 15 mins to not be late for class\n",
    "n = 60-2-15-10\n",
    "\n",
    "\n",
    "stats.norm(μ,σ).cdf(n)"
   ]
  },
  {
   "cell_type": "code",
   "execution_count": null,
   "id": "3a6daadf",
   "metadata": {},
   "outputs": [],
   "source": [
    "#7 . Connect to the employees database and find the average salary of current employees, along with the standard deviation. For the following questions, calculate the answer based on modeling the employees salaries with a normal distribution defined by the calculated mean and standard deviation then compare this answer to the actual values present in the salaries dataset.\n",
    "\n",
    "#What percent of employees earn less than 60,000?\n",
    "#What percent of employees earn more than 95,000?\n",
    "#What percent of employees earn between 65,000 and 80,000?\n",
    "#What do the top 5% of employees make?"
   ]
  },
  {
   "cell_type": "code",
   "execution_count": 19,
   "id": "1f2a9a2f",
   "metadata": {},
   "outputs": [],
   "source": [
    "import env\n",
    "url = f'mysql+pymysql://{env.username}:{env.password}@{env.host}/employees'\n",
    "salaries = pd.read_sql('SELECT * FROM salaries WHERE salaries.to_date > NOW()', url)"
   ]
  },
  {
   "cell_type": "code",
   "execution_count": 20,
   "id": "a72bbaf1",
   "metadata": {},
   "outputs": [
    {
     "data": {
      "text/html": [
       "<div>\n",
       "<style scoped>\n",
       "    .dataframe tbody tr th:only-of-type {\n",
       "        vertical-align: middle;\n",
       "    }\n",
       "\n",
       "    .dataframe tbody tr th {\n",
       "        vertical-align: top;\n",
       "    }\n",
       "\n",
       "    .dataframe thead th {\n",
       "        text-align: right;\n",
       "    }\n",
       "</style>\n",
       "<table border=\"1\" class=\"dataframe\">\n",
       "  <thead>\n",
       "    <tr style=\"text-align: right;\">\n",
       "      <th></th>\n",
       "      <th>emp_no</th>\n",
       "      <th>salary</th>\n",
       "      <th>from_date</th>\n",
       "      <th>to_date</th>\n",
       "    </tr>\n",
       "  </thead>\n",
       "  <tbody>\n",
       "    <tr>\n",
       "      <th>0</th>\n",
       "      <td>10001</td>\n",
       "      <td>88958</td>\n",
       "      <td>2002-06-22</td>\n",
       "      <td>9999-01-01</td>\n",
       "    </tr>\n",
       "    <tr>\n",
       "      <th>1</th>\n",
       "      <td>10002</td>\n",
       "      <td>72527</td>\n",
       "      <td>2001-08-02</td>\n",
       "      <td>9999-01-01</td>\n",
       "    </tr>\n",
       "    <tr>\n",
       "      <th>2</th>\n",
       "      <td>10003</td>\n",
       "      <td>43311</td>\n",
       "      <td>2001-12-01</td>\n",
       "      <td>9999-01-01</td>\n",
       "    </tr>\n",
       "    <tr>\n",
       "      <th>3</th>\n",
       "      <td>10004</td>\n",
       "      <td>74057</td>\n",
       "      <td>2001-11-27</td>\n",
       "      <td>9999-01-01</td>\n",
       "    </tr>\n",
       "    <tr>\n",
       "      <th>4</th>\n",
       "      <td>10005</td>\n",
       "      <td>94692</td>\n",
       "      <td>2001-09-09</td>\n",
       "      <td>9999-01-01</td>\n",
       "    </tr>\n",
       "  </tbody>\n",
       "</table>\n",
       "</div>"
      ],
      "text/plain": [
       "   emp_no  salary   from_date     to_date\n",
       "0   10001   88958  2002-06-22  9999-01-01\n",
       "1   10002   72527  2001-08-02  9999-01-01\n",
       "2   10003   43311  2001-12-01  9999-01-01\n",
       "3   10004   74057  2001-11-27  9999-01-01\n",
       "4   10005   94692  2001-09-09  9999-01-01"
      ]
     },
     "execution_count": 20,
     "metadata": {},
     "output_type": "execute_result"
    }
   ],
   "source": [
    "salaries.head()"
   ]
  },
  {
   "cell_type": "code",
   "execution_count": 23,
   "id": "e5b9dbc9",
   "metadata": {},
   "outputs": [
    {
     "data": {
      "text/plain": [
       "72012.23585730705"
      ]
     },
     "execution_count": 23,
     "metadata": {},
     "output_type": "execute_result"
    }
   ],
   "source": [
    "# average salary and standard deviation\n",
    "avg_salary = salaries.salary.mean()\n",
    "avg_salary"
   ]
  },
  {
   "cell_type": "code",
   "execution_count": 24,
   "id": "0281548e",
   "metadata": {},
   "outputs": [
    {
     "data": {
      "text/plain": [
       "17309.99538025198"
      ]
     },
     "execution_count": 24,
     "metadata": {},
     "output_type": "execute_result"
    }
   ],
   "source": [
    "std_salary = salaries.salary.std()\n",
    "std_salary"
   ]
  },
  {
   "cell_type": "code",
   "execution_count": 25,
   "id": "828a7666",
   "metadata": {},
   "outputs": [
    {
     "data": {
      "text/plain": [
       "0.2438393099761686"
      ]
     },
     "execution_count": 25,
     "metadata": {},
     "output_type": "execute_result"
    }
   ],
   "source": [
    "#a. What percent of employees earn less than 60,000?\n",
    "stats.norm(avg_salary, std_salary).cdf(59_999)"
   ]
  },
  {
   "cell_type": "code",
   "execution_count": 26,
   "id": "0efcf8dd",
   "metadata": {},
   "outputs": [
    {
     "data": {
      "text/plain": [
       "0.09209773465617083"
      ]
     },
     "execution_count": 26,
     "metadata": {},
     "output_type": "execute_result"
    }
   ],
   "source": [
    "#b. What percent of employees earn more than 95,000?\n",
    "stats.norm(avg_salary,std_salary).sf(94999)"
   ]
  },
  {
   "cell_type": "code",
   "execution_count": 28,
   "id": "bc985ff3",
   "metadata": {},
   "outputs": [
    {
     "data": {
      "text/plain": [
       "array([0.33506057])"
      ]
     },
     "execution_count": 28,
     "metadata": {},
     "output_type": "execute_result"
    }
   ],
   "source": [
    "#c. What percent of employees earn between 65,000 and 80,000?\n",
    "np.diff(stats.norm(avg_salary,std_salary).cdf([65_000, 80_000]))"
   ]
  },
  {
   "cell_type": "code",
   "execution_count": 29,
   "id": "5daeaec2",
   "metadata": {},
   "outputs": [
    {
     "data": {
      "text/plain": [
       "100484.64454102777"
      ]
     },
     "execution_count": 29,
     "metadata": {},
     "output_type": "execute_result"
    }
   ],
   "source": [
    "#d. What do the top 5% of employees make?\n",
    "stats.norm(avg_salary,std_salary).isf(.05)"
   ]
  },
  {
   "cell_type": "code",
   "execution_count": null,
   "id": "424cbb2c",
   "metadata": {},
   "outputs": [],
   "source": []
  }
 ],
 "metadata": {
  "kernelspec": {
   "display_name": "Python 3 (ipykernel)",
   "language": "python",
   "name": "python3"
  },
  "language_info": {
   "codemirror_mode": {
    "name": "ipython",
    "version": 3
   },
   "file_extension": ".py",
   "mimetype": "text/x-python",
   "name": "python",
   "nbconvert_exporter": "python",
   "pygments_lexer": "ipython3",
   "version": "3.9.12"
  }
 },
 "nbformat": 4,
 "nbformat_minor": 5
}
